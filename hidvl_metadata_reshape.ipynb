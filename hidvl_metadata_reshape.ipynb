{
 "cells": [
  {
   "cell_type": "markdown",
   "metadata": {},
   "source": [
    "# HIDVL metadata spreadsheet reshape script\n",
    "Sometimes, an HIDVL batch will only include new records. As part of the process to generate draft HIDVL MARC records by batch, we need to reshape the spreadsheet exported from the Airtable metadata submission form."
   ]
  },
  {
   "cell_type": "code",
   "execution_count": 1,
   "metadata": {},
   "outputs": [],
   "source": [
    "#import modules and libraries\n",
    "import pandas as pd\n",
    "import numpy as np\n",
    "from datetime import datetime, date, time\n",
    "filetime = datetime.now()\n",
    "filetime = filetime.strftime(\"%Y-%m-%d_%I-%M_%p\")"
   ]
  },
  {
   "cell_type": "code",
   "execution_count": 2,
   "metadata": {
    "collapsed": false,
    "jupyter": {
     "outputs_hidden": false
    }
   },
   "outputs": [
    {
     "name": "stdin",
     "output_type": "stream",
     "text": [
      "enter file name and if appropriate filepath of airtable metadata csv:  Metadata-December_2022.csv\n"
     ]
    }
   ],
   "source": [
    "post_2019_dmd = input(\"enter file name and if appropriate filepath of airtable metadata csv: \")"
   ]
  },
  {
   "cell_type": "code",
   "execution_count": 3,
   "metadata": {
    "collapsed": false,
    "jupyter": {
     "outputs_hidden": false
    }
   },
   "outputs": [],
   "source": [
    "# load new metadata dataframe from csv\n",
    "df_post_2019_dmd = pd.read_csv(post_2019_dmd,na_filter=False,quotechar = '\"')"
   ]
  },
  {
   "cell_type": "code",
   "execution_count": 4,
   "metadata": {},
   "outputs": [],
   "source": [
    "df_post_2019_dmd = df_post_2019_dmd.replace(r'^\\s*$', np.nan, regex=True)"
   ]
  },
  {
   "cell_type": "code",
   "execution_count": 5,
   "metadata": {
    "collapsed": false,
    "jupyter": {
     "outputs_hidden": false
    }
   },
   "outputs": [],
   "source": [
    "df_post_2019_dmd = df_post_2019_dmd.fillna(np.nan)"
   ]
  },
  {
   "cell_type": "code",
   "execution_count": 6,
   "metadata": {},
   "outputs": [],
   "source": [
    "# specify new column names for the incoming metadata column headers\n",
    "# for august 2020 batch, mapped Run time rounded to Run_Time\n",
    "post_2019_dmd_newcols = {\n",
    "    \"HI #\" : \"HI\",\n",
    "    \"Inventory\": \"NOID\",\n",
    "    \"Publication cycle\" : \"Publication_Cycle\",\n",
    "    \"Date of event\" : \"Date_of_Production\",\n",
    "    \"Location information\": \"Location_Venue\",\n",
    "    \"Language note\": \"Language_Note\",\n",
    "    \"Language\": \"Language_List\",\n",
    "    \"Main production credits\": \"Main_Production_Credits\",\n",
    "    \"Event type\" : \"Worktypes\",\n",
    "    \"Subject\": \"Subjects_653\",\n",
    "    \"Copyright holder\": \"Rights_Holder\",\n",
    "    \"Artist bio\": \"Artist_Bio\",\n",
    "    \"Run time rounded\":\"Run_Time_Submitted\",\n",
    "    \"Collection\": \"Series_Title\",\n",
    "    \"Conference\":\"Meeting_Information\"\n",
    "}"
   ]
  },
  {
   "cell_type": "code",
   "execution_count": 7,
   "metadata": {
    "collapsed": false,
    "jupyter": {
     "outputs_hidden": false
    }
   },
   "outputs": [
    {
     "name": "stdout",
     "output_type": "stream",
     "text": [
      "<class 'pandas.core.frame.DataFrame'>\n",
      "RangeIndex: 30 entries, 0 to 29\n",
      "Data columns (total 36 columns):\n",
      " #   Column                             Non-Null Count  Dtype  \n",
      "---  ------                             --------------  -----  \n",
      " 0   HI                                 30 non-null     object \n",
      " 1   NOID                               30 non-null     object \n",
      " 2   DMD Finalized                      30 non-null     object \n",
      " 3   Title                              30 non-null     object \n",
      " 4   Alternate title 1                  6 non-null      object \n",
      " 5   Alternate title 2                  0 non-null      float64\n",
      " 6   Alternate title 3                  0 non-null      float64\n",
      " 7   Alternate title 4                  0 non-null      float64\n",
      " 8   Alternate title 5                  0 non-null      float64\n",
      " 9   Series_Title                       30 non-null     object \n",
      " 10  Meeting_Information                0 non-null      float64\n",
      " 11  Worktypes                          30 non-null     object \n",
      " 12  Date_of_Production                 30 non-null     object \n",
      " 13  Location_Venue                     30 non-null     object \n",
      " 14  Subjects_653                       30 non-null     object \n",
      " 15  Summary                            30 non-null     object \n",
      " 16  Artist_Bio                         30 non-null     object \n",
      " 17  Rights_Holder                      30 non-null     object \n",
      " 18  Main_Production_Credits            25 non-null     object \n",
      " 19  Participants                       30 non-null     object \n",
      " 20  Run time                           30 non-null     object \n",
      " 21  Run_Time_Submitted                 30 non-null     object \n",
      " 22  Source media format                30 non-null     object \n",
      " 23  How many source media form items?  15 non-null     object \n",
      " 24  Language_List                      15 non-null     object \n",
      " 25  Language_Note                      0 non-null      float64\n",
      " 26  Publication_Cycle                  30 non-null     object \n",
      " 27  Copyright contact designation      30 non-null     object \n",
      " 28  Copyright address                  15 non-null     object \n",
      " 29  Copyright business phone           30 non-null     object \n",
      " 30  Copyright mobile phone             0 non-null      float64\n",
      " 31  Copyright fax                      0 non-null      float64\n",
      " 32  Copyright email 1                  30 non-null     object \n",
      " 33  Copyright email 2                  0 non-null      float64\n",
      " 34  Copyright email 3                  0 non-null      float64\n",
      " 35  Copyright website                  30 non-null     object \n",
      "dtypes: float64(10), object(26)\n",
      "memory usage: 8.6+ KB\n",
      "new df None\n"
     ]
    }
   ],
   "source": [
    "#rename the column headers\n",
    "df_post_2019_dmd.rename(columns=post_2019_dmd_newcols, inplace=True)\n",
    "#see what columns we have in the dataframe now:\n",
    "#print(\"new df\",df_post_2019_dmd)\n",
    "print(\"new df\",df_post_2019_dmd.info())\n",
    "#Alternate titles have imported as non-null float64 values, and I'm not sure why!"
   ]
  },
  {
   "cell_type": "code",
   "execution_count": 8,
   "metadata": {},
   "outputs": [],
   "source": [
    "#add an empty column for 650 subjects\n",
    "#based on https://stackoverflow.com/questions/16327055/how-to-add-an-empty-column-to-a-dataframe\n",
    "df_post_2019_dmd[\"Subjects_650\"] = np.nan"
   ]
  },
  {
   "cell_type": "code",
   "execution_count": 9,
   "metadata": {},
   "outputs": [],
   "source": [
    "#do some concatenation to populate the format field\n",
    "df_post_2019_dmd [\"Format\"] = df_post_2019_dmd[\"How many source media form items?\"].astype(str) + \" \" + df_post_2019_dmd[\"Source media format\"]"
   ]
  },
  {
   "cell_type": "code",
   "execution_count": 10,
   "metadata": {
    "collapsed": false,
    "jupyter": {
     "outputs_hidden": false
    }
   },
   "outputs": [
    {
     "name": "stdout",
     "output_type": "stream",
     "text": [
      "0     Valeria Macías Rodríguez, tel. (52-55) 4122802...\n",
      "1     Valeria Macías Rodríguez, tel. (52-55) 4122802...\n",
      "2     Valeria Macías Rodríguez, tel. (52-55) 4122802...\n",
      "3     Valeria Macías Rodríguez, tel. (52-55) 4122802...\n",
      "4     Valeria Macías Rodríguez, tel. (52-55) 4122802...\n",
      "5     Valeria Macías Rodríguez, tel. (52-55) 4122802...\n",
      "6     Valeria Macías Rodríguez, tel. (52-55) 4122802...\n",
      "7     Valeria Macías Rodríguez, tel. (52-55) 4122802...\n",
      "8     Valeria Macías Rodríguez, tel. (52-55) 4122802...\n",
      "9     Valeria Macías Rodríguez, tel. (52-55) 4122802...\n",
      "10    Valeria Macías Rodríguez, tel. (52-55) 4122802...\n",
      "11    Valeria Macías Rodríguez, tel. (52-55) 4122802...\n",
      "12    Valeria Macías Rodríguez, tel. (52-55) 4122802...\n",
      "13    Valeria Macías Rodríguez, tel. (52-55) 4122802...\n",
      "14    Valeria Macías Rodríguez, tel. (52-55) 4122802...\n",
      "15    Carlos Martiel, 407 Kosciuszko St., Brooklyn, ...\n",
      "16    Carlos Martiel, 407 Kosciuszko St., Brooklyn, ...\n",
      "17    Carlos Martiel, 407 Kosciuszko St., Brooklyn, ...\n",
      "18    Carlos Martiel, 407 Kosciuszko St., Brooklyn, ...\n",
      "19    Carlos Martiel, 407 Kosciuszko St., Brooklyn, ...\n",
      "20    Carlos Martiel, 407 Kosciuszko St., Brooklyn, ...\n",
      "21    Carlos Martiel, 407 Kosciuszko St., Brooklyn, ...\n",
      "22    Carlos Martiel, 407 Kosciuszko St., Brooklyn, ...\n",
      "23    Carlos Martiel, 407 Kosciuszko St., Brooklyn, ...\n",
      "24    Carlos Martiel, 407 Kosciuszko St., Brooklyn, ...\n",
      "25    Carlos Martiel, 407 Kosciuszko St., Brooklyn, ...\n",
      "26    Carlos Martiel, 407 Kosciuszko St., Brooklyn, ...\n",
      "27    Carlos Martiel, 407 Kosciuszko St., Brooklyn, ...\n",
      "28    Carlos Martiel, 407 Kosciuszko St., Brooklyn, ...\n",
      "29    Carlos Martiel, 407 Kosciuszko St., Brooklyn, ...\n",
      "Name: Copyright_Contact, dtype: object\n"
     ]
    }
   ],
   "source": [
    "#combine copyright holder contact info into a single field\n",
    "#based on https://stackoverflow.com/questions/60724940/concatenate-strings-across-columns-that-are-not-null\n",
    "df_post_2019_dmd[\"Copyright_Contact\"] = df_post_2019_dmd[[\"Copyright contact designation\",\"Copyright address\",\"Copyright business phone\",\"Copyright mobile phone\",\"Copyright fax\",\"Copyright email 1\",\"Copyright email 2\",\"Copyright email 3\",\"Copyright website\"]].apply(lambda x: ', '.join(x.dropna()), axis=1)\n",
    "df_post_2019_dmd[\"Copyright_Contact\"] = df_post_2019_dmd[\"Copyright_Contact\"].replace('\\\\n', ', ', regex=True)\n",
    "print(df_post_2019_dmd[\"Copyright_Contact\"])\n"
   ]
  },
  {
   "cell_type": "code",
   "execution_count": 11,
   "metadata": {
    "collapsed": false,
    "jupyter": {
     "outputs_hidden": false
    }
   },
   "outputs": [],
   "source": [
    "#combine alternate titles into a single cell\n",
    "#based on https://stackoverflow.com/questions/60724940/concatenate-strings-across-columns-that-are-not-null\n",
    "#this may not actually concatenate any alternate titles, because there is usually only ever one\n",
    "df_post_2019_dmd[\"Alternate_Titles\"] = df_post_2019_dmd[[\"Alternate title 1\",\"Alternate title 2\",\"Alternate title 3\",\"Alternate title 4\",\"Alternate title 5\"]].apply(lambda x: '|'.join(x.dropna()), axis=1)"
   ]
  },
  {
   "cell_type": "code",
   "execution_count": 12,
   "metadata": {
    "collapsed": false,
    "jupyter": {
     "outputs_hidden": false
    }
   },
   "outputs": [
    {
     "data": {
      "text/plain": [
       "0                                                      \n",
       "1                                                      \n",
       "2                                                      \n",
       "3                                                      \n",
       "4                                                      \n",
       "5                                                      \n",
       "6                                                      \n",
       "7                                                      \n",
       "8                                                      \n",
       "9                                                      \n",
       "10                                                     \n",
       "11                                                     \n",
       "12                                                     \n",
       "13                                                     \n",
       "14                                                     \n",
       "15                            Maze, Enacting Stillness.\n",
       "16    Death to Oblivion. Produced as part of the sol...\n",
       "17                                                     \n",
       "18                                                     \n",
       "19                                                     \n",
       "20                                                     \n",
       "21                                                     \n",
       "22                                                 Worm\n",
       "23                                                     \n",
       "24                                                     \n",
       "25                                           Sospechoso\n",
       "26                                               Ruinas\n",
       "27                                        Silent Prayer\n",
       "28                                                     \n",
       "29                                                     \n",
       "Name: Alternate_Titles, dtype: object"
      ]
     },
     "execution_count": 12,
     "metadata": {},
     "output_type": "execute_result"
    }
   ],
   "source": [
    "#tried filling the blank cells in this field with np.nan but it didn't work...\n",
    "df_post_2019_dmd[\"Alternate_Titles\"].fillna(np.nan)"
   ]
  },
  {
   "cell_type": "code",
   "execution_count": 13,
   "metadata": {
    "collapsed": false,
    "jupyter": {
     "outputs_hidden": false
    }
   },
   "outputs": [
    {
     "name": "stdout",
     "output_type": "stream",
     "text": [
      "0     False\n",
      "1     False\n",
      "2     False\n",
      "3     False\n",
      "4     False\n",
      "5     False\n",
      "6     False\n",
      "7     False\n",
      "8     False\n",
      "9     False\n",
      "10    False\n",
      "11    False\n",
      "12    False\n",
      "13    False\n",
      "14    False\n",
      "15    False\n",
      "16    False\n",
      "17    False\n",
      "18    False\n",
      "19    False\n",
      "20    False\n",
      "21    False\n",
      "22    False\n",
      "23    False\n",
      "24    False\n",
      "25    False\n",
      "26    False\n",
      "27    False\n",
      "28    False\n",
      "29    False\n",
      "Name: Alternate_Titles, dtype: bool\n"
     ]
    }
   ],
   "source": [
    "#I still wanted to check to see if the values had become null values!\n",
    "print(df_post_2019_dmd [\"Alternate_Titles\"].isnull())"
   ]
  },
  {
   "cell_type": "code",
   "execution_count": 14,
   "metadata": {
    "collapsed": false,
    "jupyter": {
     "outputs_hidden": false
    }
   },
   "outputs": [],
   "source": [
    "#get rid of any newline characters\n",
    "df_post_2019_dmd[\"Alternate_Titles\"] = df_post_2019_dmd[\"Alternate_Titles\"].replace('\\\\n', '', regex=True)\n",
    "df_post_2019_dmd[\"Main_Production_Credits\"] = df_post_2019_dmd[\"Main_Production_Credits\"].replace('\\\\n', '', regex=True)\n",
    "df_post_2019_dmd[\"Summary\"] = df_post_2019_dmd[\"Summary\"].replace('\\\\n', '', regex=True)\n",
    "df_post_2019_dmd[\"Artist_Bio\"] = df_post_2019_dmd[\"Artist_Bio\"].replace('\\\\n', '', regex=True)\n",
    "df_post_2019_dmd[\"Participants\"] = df_post_2019_dmd[\"Participants\"].replace('\\\\n', '', regex=True)\n"
   ]
  },
  {
   "cell_type": "code",
   "execution_count": 15,
   "metadata": {
    "collapsed": false,
    "jupyter": {
     "outputs_hidden": false
    }
   },
   "outputs": [
    {
     "name": "stdout",
     "output_type": "stream",
     "text": [
      "El Museo Ex Teresa Arte Actual is an artistic space located in the Centro Histórico neighborhood of Mexico City. Opened in 1993, Ex Teresa was named for its location in what was formerly the temple of Santa Teresa la Antigua. For more than 25 years, the museum and cultural space has dedicated itself to the promotion and creation of contemporary art, as well as exhibitions and research into creative processes around the creation of performance, sound, and video art, among other modalities.\n"
     ]
    }
   ],
   "source": [
    "#print a sample record that had newlines\n",
    "print(df_post_2019_dmd.loc[8,\"Artist_Bio\"])"
   ]
  },
  {
   "cell_type": "code",
   "execution_count": 16,
   "metadata": {
    "collapsed": false,
    "jupyter": {
     "outputs_hidden": false
    }
   },
   "outputs": [],
   "source": [
    "#drop unwanted columns and see what remains\n",
    "#for august 2020, dropped Run time instead of Run time rounded\n",
    "df_post_2019_dmd.drop([\"Run time\",\"DMD Finalized\",\"How many source media form items?\",\"Source media format\",\"Alternate title 1\",\"Alternate title 2\",\"Alternate title 3\",\"Alternate title 4\",\"Alternate title 5\",\"Copyright contact designation\",\"Copyright address\",\"Copyright business phone\",\"Copyright mobile phone\",\"Copyright fax\",\"Copyright email 1\",\"Copyright email 2\",\"Copyright email 3\",\"Copyright website\"], axis=1, inplace=True)"
   ]
  },
  {
   "cell_type": "code",
   "execution_count": 17,
   "metadata": {
    "collapsed": false,
    "jupyter": {
     "outputs_hidden": false
    }
   },
   "outputs": [
    {
     "name": "stdout",
     "output_type": "stream",
     "text": [
      "<class 'pandas.core.frame.DataFrame'>\n",
      "RangeIndex: 30 entries, 0 to 29\n",
      "Data columns (total 22 columns):\n",
      " #   Column                   Non-Null Count  Dtype  \n",
      "---  ------                   --------------  -----  \n",
      " 0   HI                       30 non-null     object \n",
      " 1   NOID                     30 non-null     object \n",
      " 2   Title                    30 non-null     object \n",
      " 3   Series_Title             30 non-null     object \n",
      " 4   Meeting_Information      0 non-null      float64\n",
      " 5   Worktypes                30 non-null     object \n",
      " 6   Date_of_Production       30 non-null     object \n",
      " 7   Location_Venue           30 non-null     object \n",
      " 8   Subjects_653             30 non-null     object \n",
      " 9   Summary                  30 non-null     object \n",
      " 10  Artist_Bio               30 non-null     object \n",
      " 11  Rights_Holder            30 non-null     object \n",
      " 12  Main_Production_Credits  25 non-null     object \n",
      " 13  Participants             30 non-null     object \n",
      " 14  Run_Time_Submitted       30 non-null     object \n",
      " 15  Language_List            15 non-null     object \n",
      " 16  Language_Note            0 non-null      float64\n",
      " 17  Publication_Cycle        30 non-null     object \n",
      " 18  Subjects_650             0 non-null      float64\n",
      " 19  Format                   30 non-null     object \n",
      " 20  Copyright_Contact        30 non-null     object \n",
      " 21  Alternate_Titles         30 non-null     object \n",
      "dtypes: float64(3), object(19)\n",
      "memory usage: 5.3+ KB\n",
      "None\n"
     ]
    }
   ],
   "source": [
    "print(df_post_2019_dmd.info())"
   ]
  },
  {
   "cell_type": "code",
   "execution_count": 18,
   "metadata": {
    "collapsed": false,
    "jupyter": {
     "outputs_hidden": false
    }
   },
   "outputs": [],
   "source": [
    "df_post_2019_dmd = df_post_2019_dmd.sort_index(axis=1)\n",
    "#df_post_2019_dmd = df_post_2019_dmd[[\"NOID\",\"Alternate_Titles\",\"Artist_Bio\",\"Copyright_Contact\",\"Date_of_Production\",\"Format\",\"HI\",\"Language_List\",\"Location_Venue\",\"Main_Production_Credits\",\"Meeting_Information\",\"Participants\",\"Publication_Cycle\",\"Rights_Holder\",\"Run_Time\",\"Series_Title\",\"Subjects_650\",\"Subjects_653\",\"Summary\",\"Title\",\"Worktypes\"]]"
   ]
  },
  {
   "cell_type": "code",
   "execution_count": 19,
   "metadata": {
    "collapsed": false,
    "jupyter": {
     "outputs_hidden": false
    }
   },
   "outputs": [
    {
     "name": "stdout",
     "output_type": "stream",
     "text": [
      "<class 'pandas.core.frame.DataFrame'>\n",
      "RangeIndex: 30 entries, 0 to 29\n",
      "Data columns (total 22 columns):\n",
      " #   Column                   Non-Null Count  Dtype  \n",
      "---  ------                   --------------  -----  \n",
      " 0   Alternate_Titles         30 non-null     object \n",
      " 1   Artist_Bio               30 non-null     object \n",
      " 2   Copyright_Contact        30 non-null     object \n",
      " 3   Date_of_Production       30 non-null     object \n",
      " 4   Format                   30 non-null     object \n",
      " 5   HI                       30 non-null     object \n",
      " 6   Language_List            15 non-null     object \n",
      " 7   Language_Note            0 non-null      float64\n",
      " 8   Location_Venue           30 non-null     object \n",
      " 9   Main_Production_Credits  25 non-null     object \n",
      " 10  Meeting_Information      0 non-null      float64\n",
      " 11  NOID                     30 non-null     object \n",
      " 12  Participants             30 non-null     object \n",
      " 13  Publication_Cycle        30 non-null     object \n",
      " 14  Rights_Holder            30 non-null     object \n",
      " 15  Run_Time_Submitted       30 non-null     object \n",
      " 16  Series_Title             30 non-null     object \n",
      " 17  Subjects_650             0 non-null      float64\n",
      " 18  Subjects_653             30 non-null     object \n",
      " 19  Summary                  30 non-null     object \n",
      " 20  Title                    30 non-null     object \n",
      " 21  Worktypes                30 non-null     object \n",
      "dtypes: float64(3), object(19)\n",
      "memory usage: 5.3+ KB\n",
      "None\n"
     ]
    }
   ],
   "source": [
    "#df_combined_dmd = pd.concat([df_pre_2019_dmd,df_post_2019_dmd],ignore_index=True,keys=['pre', 'post'])\n",
    "#print(df_combined_dmd)\n",
    "print(df_post_2019_dmd.info())"
   ]
  },
  {
   "cell_type": "code",
   "execution_count": 20,
   "metadata": {},
   "outputs": [],
   "source": [
    "df_post_2019_dmd.to_csv(\"hidvl_metadata_reshaped_%s.csv\"%filetime, index=False)"
   ]
  },
  {
   "cell_type": "markdown",
   "metadata": {},
   "source": [
    "The end!"
   ]
  }
 ],
 "metadata": {
  "kernelspec": {
   "display_name": "Python 3 (ipykernel)",
   "language": "python",
   "name": "python3"
  },
  "language_info": {
   "codemirror_mode": {
    "name": "ipython",
    "version": 3
   },
   "file_extension": ".py",
   "mimetype": "text/x-python",
   "name": "python",
   "nbconvert_exporter": "python",
   "pygments_lexer": "ipython3",
   "version": "3.7.10"
  }
 },
 "nbformat": 4,
 "nbformat_minor": 4
}
